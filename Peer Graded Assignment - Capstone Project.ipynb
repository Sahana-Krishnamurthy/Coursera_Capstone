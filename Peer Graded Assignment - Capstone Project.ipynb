{
    "cells": [
        {
            "cell_type": "markdown",
            "metadata": {
                "collapsed": true
            },
            "source": "# Cousera Peer Graded Assignment - Capstone Project"
        },
        {
            "cell_type": "markdown",
            "metadata": {},
            "source": "## Introduction\n\nBangalore, officially Bengaluru, is the capital of the Indian state of Karnataka. It has a population of over ten million, making it a megacity and the third-most populous city and fifth-most populous urban agglomeration in India. \n\nBengaluru is widely regarded as the \"Silicon Valley of India\" (or \"IT capital of India\") because of its role as the nation's leading information technology (IT) exporter. Indian technological organisations such as ISRO, Infosys, Wipro and HAL are headquartered in the city. A demographically diverse city, Bangalore is the second fastest-growing major metropolis in India. Recent estimates of the metro economy of its urban area have ranked Bangalore either the fourth or fifth-most productive metro area of India. It is home to many educational and research institutions in India, such as Indian Institute of Science (IISc), Indian Institute of Management (Bangalore) (IIMB), International Institute of Information Technology, Bangalore (IIITB), National Institute of Fashion Technology, Bangalore, National Institute of Design, Bangalore (NID R&D Campus), National Law School of India University (NLSIU) and National Institute of Mental Health and Neurosciences (NIMHANS). Numerous state-owned aerospace and defence organisations, such as Bharat Electronics, Hindustan Aeronautics and National Aerospace Laboratories are located in the city. The city also houses the Kannada film industry."
        },
        {
            "cell_type": "markdown",
            "metadata": {},
            "source": "## Business Problem\n\nWith huge development in the city, the population is expected to increase in the coming years. Bangalore's 2020 population is now estimated at 12,326,532. The aim of this project is to find suitable places in the city to put up a merchandise shop. So that the needs for best shopping experience of people can be catered to."
        },
        {
            "cell_type": "markdown",
            "metadata": {},
            "source": "## Data\n\nThe data for this project has been taken from the Wikipedia webpage. Where the list of all neighbohoods in every regions has been listed. \n\nA link to the webpage is provided here: \"https://en.wikipedia.org/wiki/List_of_neighbourhoods_in_Bangalore\""
        },
        {
            "cell_type": "markdown",
            "metadata": {},
            "source": "### 1. Importing required libraries\n\nWe start this project by importing all the necessary libraries required."
        },
        {
            "cell_type": "code",
            "execution_count": 1,
            "metadata": {},
            "outputs": [
                {
                    "name": "stdout",
                    "output_type": "stream",
                    "text": "Solving environment: done\n\n## Package Plan ##\n\n  environment location: /opt/conda/envs/Python36\n\n  added / updated specs: \n    - geopy\n\n\nThe following packages will be downloaded:\n\n    package                    |            build\n    ---------------------------|-----------------\n    python_abi-3.6             |          1_cp36m           4 KB  conda-forge\n    ca-certificates-2020.6.20  |       hecda079_0         145 KB  conda-forge\n    certifi-2020.6.20          |   py36h9f0ad1d_0         151 KB  conda-forge\n    geopy-2.0.0                |     pyh9f0ad1d_0          63 KB  conda-forge\n    openssl-1.1.1g             |       h516909a_0         2.1 MB  conda-forge\n    geographiclib-1.50         |             py_0          34 KB  conda-forge\n    ------------------------------------------------------------\n                                           Total:         2.5 MB\n\nThe following NEW packages will be INSTALLED:\n\n    geographiclib:   1.50-py_0          conda-forge\n    geopy:           2.0.0-pyh9f0ad1d_0 conda-forge\n    python_abi:      3.6-1_cp36m        conda-forge\n\nThe following packages will be UPDATED:\n\n    ca-certificates: 2020.1.1-0                     --> 2020.6.20-hecda079_0     conda-forge\n    certifi:         2020.6.20-py36_0               --> 2020.6.20-py36h9f0ad1d_0 conda-forge\n    openssl:         1.1.1g-h7b6447c_0              --> 1.1.1g-h516909a_0        conda-forge\n\n\nDownloading and Extracting Packages\npython_abi-3.6       | 4 KB      | ##################################### | 100% \nca-certificates-2020 | 145 KB    | ##################################### | 100% \ncertifi-2020.6.20    | 151 KB    | ##################################### | 100% \ngeopy-2.0.0          | 63 KB     | ##################################### | 100% \nopenssl-1.1.1g       | 2.1 MB    | ##################################### | 100% \ngeographiclib-1.50   | 34 KB     | ##################################### | 100% \nPreparing transaction: done\nVerifying transaction: done\nExecuting transaction: done\nLibraries imported.\n"
                }
            ],
            "source": "import numpy as np # library to handle data in a vectorized manner\n\nimport pandas as pd # library for data analsysis\npd.set_option('display.max_columns', None)\npd.set_option('display.max_rows', None)\n\nimport json # library to handle JSON files\n\n!conda install -c conda-forge geopy --yes \nfrom geopy.geocoders import Nominatim # convert an address into latitude and longitude values\n\nimport requests # library to handle requests\nfrom pandas.io.json import json_normalize # tranform JSON file into a pandas dataframe\n\n# Matplotlib and associated plotting modules\nimport matplotlib.cm as cm\nimport matplotlib.colors as colors\n\n# import k-means from clustering stage\nfrom sklearn.cluster import KMeans\n\n#!conda install -c conda-forge folium=0.5.0 --yes\n#import folium # map rendering library\n\nprint('Libraries imported.')"
        },
        {
            "cell_type": "markdown",
            "metadata": {},
            "source": "### 2. Download and explore the Dataset"
        },
        {
            "cell_type": "code",
            "execution_count": 2,
            "metadata": {},
            "outputs": [
                {
                    "name": "stdout",
                    "output_type": "stream",
                    "text": "[                 Name  Image  \\\n0     Cantonment area    NaN   \n1              Domlur    NaN   \n2         Indiranagar    NaN   \n3   Jeevanbheemanagar    NaN   \n4         Malleswaram    NaN   \n5           Pete area    NaN   \n6      Sadashivanagar    NaN   \n7       Seshadripuram    NaN   \n8        Shivajinagar    NaN   \n9              Ulsoor    NaN   \n10      Vasanth Nagar    NaN   \n\n                                              Summary  \n0   The Cantonment area in Bangalore was used as a...  \n1   Formerly part of the Cantonment area, Domlur h...  \n2   Indiranagar is a sought-after residential and ...  \n3                                                 NaN  \n4                                                 NaN  \n5   Established by Kempe Gowda I at the time of cr...  \n6   Sadashivanagar is an upscale neighbourhood in ...  \n7   Seshadripuram was established in 1892 to reduc...  \n8   Shivajinagar is one of the older areas of the ...  \n9   Ulsoor (or Halasuru) is one of the oldest area...  \n10  Located south of Bangalore Palace, Vasanth Nag...  ,                Name  Image                                            Summary\n0         Bellandur    NaN  Located along the Outer Ring Road, Bellandur i...\n1    CV Raman Nagar    NaN  CV Raman Nagar is a neighbourhood to the west ...\n2             Hoodi    NaN  Hoodi is a locality present in close proximity...\n3  Krishnarajapuram    NaN  Krishnarajapuram is located at the northernmos...\n4      Mahadevapura    NaN  Another IT hub along the Outer Ring Road, Maha...\n5      Marathahalli    NaN  Marathahalli is located at the junction of Old...\n6           Varthur    NaN  Varthur is a commercial and residential area l...\n7        Whitefield    NaN  Formerly a settlement of Anglo Indians, Whitef...,                Name  Image  Summary\n0         Banaswadi    NaN      NaN\n1        HBR Layout    NaN      NaN\n2          Horamavu    NaN      NaN\n3      Kalyan Nagar    NaN      NaN\n4      Kammanahalli    NaN      NaN\n5    Lingarajapuram    NaN      NaN\n6  Ramamurthy Nagar    NaN      NaN,              Name  Image  Summary\n0          Hebbal    NaN      NaN\n1       Jalahalli    NaN      NaN\n2       Mathikere    NaN      NaN\n3          Peenya    NaN      NaN\n4     R. T. Nagar    NaN      NaN\n5  Vidyaranyapura    NaN      NaN\n6       Yelahanka    NaN      NaN\n7    Yeshwanthpur    NaN      NaN,               Name  Image                                            Summary\n0     Bommanahalli    NaN  Primarily a residential area, Bommanahalli has...\n1      Bommasandra    NaN                                                NaN\n2       BTM Layout    NaN  BTM Layout is a commercial and residential nei...\n3  Electronic City    NaN  Nicknamed \"IT capital of India\" and \"Silicon V...\n4       HSR Layout    NaN  HSR Layout is a new residential area in Bangal...\n5      Koramangala    NaN  Koramangala is a large commercial and resident...\n6         Madiwala    NaN  Madiwala is a busy business centre located clo...,                  Name  Image  Summary\n0        Banashankari    NaN      NaN\n1        Basavanagudi    NaN      NaN\n2           Girinagar    NaN      NaN\n3         J. P. Nagar    NaN      NaN\n4           Jayanagar    NaN      NaN\n5  Kumaraswamy Layout    NaN      NaN\n6     Padmanabhanagar    NaN      NaN\n7         Uttarahalli    NaN      NaN,          Name  Image  Summary\n0  Anjanapura    NaN      NaN\n1     Arekere    NaN      NaN\n2       Begur    NaN      NaN\n3   Gottigere    NaN      NaN\n4    Hulimavu    NaN      NaN\n5     Kothnur    NaN      NaN,                    Name  Image  \\\n0     Basaveshwaranagar    NaN   \n1         Kamakshipalya    NaN   \n2               Kengeri    NaN   \n3    Mahalakshmi Layout    NaN   \n4            Nagarbhavi    NaN   \n5        Nandini Layout    NaN   \n6          Nayandahalli    NaN   \n7           Rajajinagar    NaN   \n8  Rajarajeshwari Nagar    NaN   \n9           Vijayanagar    NaN   \n\n                                             Summary  \n0  Basaveshwaranagar is a residential locality lo...  \n1  Kamakshipalya is a neighbourhood which lies ar...  \n2  Kengeri is a locality along the Mysore Road an...  \n3  Mahalakshmi Layout is a large neighbourhood on...  \n4  Located to the south of Magadi Road and along ...  \n5                                                NaN  \n6  Nayandahalli is a transport junction in the we...  \n7                                                NaN  \n8  Located in the south-western part of the city ...  \n9  Named after the Vijayanagara Empire, Vijayanag...  ,   Places adjacent to List of neighbourhoods in Bangalore  \\\n0  Doddaballapura / Devanahalli Hoskote Magadi Ba...       \n1                                                NaN       \n2                                             Magadi       \n3                                             Bidadi       \n\n  Places adjacent to List of neighbourhoods in Bangalore.1      Unnamed: 2  \n0  Doddaballapura / Devanahalli Hoskote Magadi Ba...                   NaN  \n1                       Doddaballapura / Devanahalli               Hoskote  \n2                                          Bangalore                   NaN  \n3                                       Bannerghatta        Anekal / Hosur  ,         0                             1               2\n0     NaN  Doddaballapura / Devanahalli         Hoskote\n1  Magadi                     Bangalore             NaN\n2  Bidadi                  Bannerghatta  Anekal / Hosur,   Places adjacent to List of neighbourhoods in Bangalore  \\\n0                       Thavarekere (enter location)       \n1                                                NaN       \n2                                        Thavarekere       \n3                                                NaN       \n\n  Places adjacent to List of neighbourhoods in Bangalore.1  Unnamed: 2  \n0                       Thavarekere (enter location)               NaN  \n1                                                NaN               NaN  \n2                                   (enter location)               NaN  \n3                                                NaN               NaN  ,              0                 1   2\n0          NaN               NaN NaN\n1  Thavarekere  (enter location) NaN\n2          NaN               NaN NaN]\n"
                }
            ],
            "source": "url = \"https://en.wikipedia.org/wiki/List_of_neighbourhoods_in_Bangalore\"\nhtml = requests.get(url).content\ndf = pd.read_html(html)\nprint(df)"
        },
        {
            "cell_type": "markdown",
            "metadata": {},
            "source": "As we see above, there are eight tables divided by their respective regions. In the next step, we will merge all the tables to form one full dataframe set."
        },
        {
            "cell_type": "code",
            "execution_count": 3,
            "metadata": {},
            "outputs": [],
            "source": "bangalore_data = pd.concat([df[0] , df[1] , df[2] , df[3] , df[4] , df[5] , df[6] , df[7]] , ignore_index = True)"
        },
        {
            "cell_type": "markdown",
            "metadata": {},
            "source": "We only need the list of neighborhood names. So we drop the unnecessary columns such as \"Image\" and \"Summary\""
        },
        {
            "cell_type": "code",
            "execution_count": 4,
            "metadata": {},
            "outputs": [
                {
                    "name": "stdout",
                    "output_type": "stream",
                    "text": "                    Name\n0        Cantonment area\n1                 Domlur\n2            Indiranagar\n3      Jeevanbheemanagar\n4            Malleswaram\n5              Pete area\n6         Sadashivanagar\n7          Seshadripuram\n8           Shivajinagar\n9                 Ulsoor\n10         Vasanth Nagar\n11             Bellandur\n12        CV Raman Nagar\n13                 Hoodi\n14      Krishnarajapuram\n15          Mahadevapura\n16          Marathahalli\n17               Varthur\n18            Whitefield\n19             Banaswadi\n20            HBR Layout\n21              Horamavu\n22          Kalyan Nagar\n23          Kammanahalli\n24        Lingarajapuram\n25      Ramamurthy Nagar\n26                Hebbal\n27             Jalahalli\n28             Mathikere\n29                Peenya\n30           R. T. Nagar\n31        Vidyaranyapura\n32             Yelahanka\n33          Yeshwanthpur\n34          Bommanahalli\n35           Bommasandra\n36            BTM Layout\n37       Electronic City\n38            HSR Layout\n39           Koramangala\n40              Madiwala\n41          Banashankari\n42          Basavanagudi\n43             Girinagar\n44           J. P. Nagar\n45             Jayanagar\n46    Kumaraswamy Layout\n47       Padmanabhanagar\n48           Uttarahalli\n49            Anjanapura\n50               Arekere\n51                 Begur\n52             Gottigere\n53              Hulimavu\n54               Kothnur\n55     Basaveshwaranagar\n56         Kamakshipalya\n57               Kengeri\n58    Mahalakshmi Layout\n59            Nagarbhavi\n60        Nandini Layout\n61          Nayandahalli\n62           Rajajinagar\n63  Rajarajeshwari Nagar\n64           Vijayanagar\n"
                }
            ],
            "source": "bangalore_data = bangalore_data.drop(columns = [\"Image\" , \"Summary\"])\nprint(bangalore_data)"
        }
    ],
    "metadata": {
        "kernelspec": {
            "display_name": "Python 3.6",
            "language": "python",
            "name": "python3"
        },
        "language_info": {
            "codemirror_mode": {
                "name": "ipython",
                "version": 3
            },
            "file_extension": ".py",
            "mimetype": "text/x-python",
            "name": "python",
            "nbconvert_exporter": "python",
            "pygments_lexer": "ipython3",
            "version": "3.6.9"
        }
    },
    "nbformat": 4,
    "nbformat_minor": 1
}